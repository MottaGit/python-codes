{
  "nbformat": 4,
  "nbformat_minor": 0,
  "metadata": {
    "colab": {
      "name": "Python Exercício Orientação a Objetos.ipynb",
      "provenance": [],
      "authorship_tag": "ABX9TyP2UOgXrwuMkPbrZGedEo/d",
      "include_colab_link": true
    },
    "kernelspec": {
      "name": "python3",
      "display_name": "Python 3"
    },
    "language_info": {
      "name": "python"
    }
  },
  "cells": [
    {
      "cell_type": "markdown",
      "metadata": {
        "id": "view-in-github",
        "colab_type": "text"
      },
      "source": [
        "<a href=\"https://colab.research.google.com/github/MottaGit/python-codes/blob/main/Python_Exerc%C3%ADcio_Orienta%C3%A7%C3%A3o_a_Objetos.ipynb\" target=\"_parent\"><img src=\"https://colab.research.google.com/assets/colab-badge.svg\" alt=\"Open In Colab\"/></a>"
      ]
    },
    {
      "cell_type": "code",
      "metadata": {
        "id": "-5AeEP8DNyan"
      },
      "source": [
        "class Aluno:\n",
        "  def __init__(self, nome, nota1, nota2):\n",
        "    self.nome = nome\n",
        "    self.nota1 = nota1\n",
        "    self.nota2 = nota2\n",
        "    self.media = 0.0\n",
        "\n",
        "  def calcula_media(self):\n",
        "    self.media = (self.nota1 + self.nota2)/2\n",
        "    return self.media\n",
        "\n",
        "  def imprime_atributos(self):\n",
        "    print('Nome: ', self.nome)\n",
        "    print('Nota1: ', self.nota1)\n",
        "    print('Nota2: ', self.nota2)\n",
        "    print('Media: ', self.media)\n",
        "\n",
        "  def resultado(self):\n",
        "    if self.media >= 6.0:\n",
        "      print('Aprovado')\n",
        "    else:\n",
        "      print('Reprovado')"
      ],
      "execution_count": 3,
      "outputs": []
    },
    {
      "cell_type": "code",
      "metadata": {
        "colab": {
          "base_uri": "https://localhost:8080/"
        },
        "id": "gzSZE-qBQCIs",
        "outputId": "c2f1ec77-6717-4b51-e09f-fc7fb56f74db"
      },
      "source": [
        "aluno1 = Aluno('Leonardo', 7, 5)\n",
        "aluno1.calcula_media()\n",
        "aluno1.imprime_atributos()\n",
        "aluno1.resultado()"
      ],
      "execution_count": 11,
      "outputs": [
        {
          "output_type": "stream",
          "name": "stdout",
          "text": [
            "Nome:  Leonardo\n",
            "Nota1:  7\n",
            "Nota2:  5\n",
            "Media:  6.0\n",
            "Aprovado\n"
          ]
        }
      ]
    }
  ]
}