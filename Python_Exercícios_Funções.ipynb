{
  "nbformat": 4,
  "nbformat_minor": 0,
  "metadata": {
    "colab": {
      "name": "Python Exercícios Funções.ipynb",
      "provenance": [],
      "authorship_tag": "ABX9TyOA7YVXa6CAAm4Tl52ZvuYd",
      "include_colab_link": true
    },
    "kernelspec": {
      "name": "python3",
      "display_name": "Python 3"
    },
    "language_info": {
      "name": "python"
    }
  },
  "cells": [
    {
      "cell_type": "markdown",
      "metadata": {
        "id": "view-in-github",
        "colab_type": "text"
      },
      "source": [
        "<a href=\"https://colab.research.google.com/github/MottaGit/python-codes/blob/main/Python_Exerc%C3%ADcios_Fun%C3%A7%C3%B5es.ipynb\" target=\"_parent\"><img src=\"https://colab.research.google.com/assets/colab-badge.svg\" alt=\"Open In Colab\"/></a>"
      ]
    },
    {
      "cell_type": "markdown",
      "metadata": {
        "id": "utDqnGGGU4wW"
      },
      "source": [
        "\n",
        "Ler uma temperatura em graus Celsius e apresentá-la convertida em graus Fahrenheit. A fórmula de conversão é F = (9 * C + 160) / 5, na qual F é a temperatura em Fahrenheit e C é a temperatura em graus Celsius\n",
        "\n",
        " - Função para ler e retorna o valor da temperatura (não recebe parâmetro)\n",
        " - Função para fazer o cálculo (recebe como parâmetro a temperatura em graus Celsius)\n",
        " - Função para mostrar o resultado, recebendo como parâmetro o valor e fazendo a impressão\n",
        "\n"
      ]
    },
    {
      "cell_type": "code",
      "metadata": {
        "colab": {
          "base_uri": "https://localhost:8080/"
        },
        "id": "CLhey-WuTOOR",
        "outputId": "d020f97f-1086-473f-8bb6-0a7faf4d7854"
      },
      "source": [
        "def lerT():\n",
        "  temp = float(input('Digite a temperatura em ºC: '))\n",
        "  return temp\n",
        "\n",
        "def converte(temp_C):\n",
        "  temp_F = (9*temp_C + 160)/5\n",
        "  return temp_F\n",
        "\n",
        "def exibe(temp_F):\n",
        "  print('Temperatura em Fahrenheit: {}ºF'.format(temp_F))\n",
        "\n",
        "\n",
        "temp_c = lerT()\n",
        "temp_f = converte(temp_c)\n",
        "exibe(temp_f)"
      ],
      "execution_count": 4,
      "outputs": [
        {
          "output_type": "stream",
          "name": "stdout",
          "text": [
            "Digite a temperatura em ºC: 20\n",
            "Temperatura em Fahrenheit: 68.0ºF\n"
          ]
        }
      ]
    },
    {
      "cell_type": "markdown",
      "metadata": {
        "id": "mQU2GYJXVZSE"
      },
      "source": [
        "Efetuar o cálculo da quantidade de litros de combustível gasto em uma viagem, utilizando um automóvel que faz 12 Km por litro. Para obter o cálculo, o usuário deve fornecer o tempo gasto na viagem e a velocidade média durante ela. Desta forma, será possível obter a distância percorrida com a fórmula DISTANCIA = TEMPO * VELOCIDADE. Tendo o valor da distância, basta calcular a quantidade de litros de combustível utilizada na viagem, com a fórmula: LITROS_USADOS = DISTANCIA / 12. O programa deve apresentar os valores da velocidade média, tempo gasto na viagem, a distância percorrida e a quantidade de litros utilizada na viagem\n",
        "\n",
        "- Função para ler os valores (não recebe parâmetro e retorna os dois valores)\n",
        "- Função para calcular a distância (recebe como parâmetro o tempo e a velocidade e retorna a distância)\n",
        "- Função para calcular a quantidade de litros (recebe como parâmetro a distância e retorna os litros)\n",
        "- Função para apresentar o resultado (recebe como parâmetro os valores e somente imprime o resultado)"
      ]
    },
    {
      "cell_type": "code",
      "metadata": {
        "colab": {
          "base_uri": "https://localhost:8080/"
        },
        "id": "PP2x-3_uVhns",
        "outputId": "3c5fc798-33b8-4511-acd9-c36bfb098c6d"
      },
      "source": [
        "def leitura():\n",
        "  tempo = float(input('digite o tempo de viagem: '))\n",
        "  velocidade = float(input('digite a velocidade média: '))\n",
        "  return tempo, velocidade\n",
        "\n",
        "def calcula_distancia(tempo, velocidade):\n",
        "  distancia = tempo * velocidade\n",
        "  return distancia\n",
        "\n",
        "def litros(distancia):\n",
        "  litros = distancia / 12\n",
        "  return litros\n",
        "\n",
        "def exibe(velocidade, tempo, distancia, litros):\n",
        "  print('Velocidade:', velocidade)\n",
        "  print('Tempo:', tempo)\n",
        "  print('Distância:', distancia)\n",
        "  print('Litros:', litros)\n",
        "\n",
        "\n",
        "t, v = leitura()\n",
        "d = calcula_distancia(t, v)\n",
        "l = litros(d)\n",
        "exibe(v, t, d, l)"
      ],
      "execution_count": 9,
      "outputs": [
        {
          "output_type": "stream",
          "name": "stdout",
          "text": [
            "digite o tempo de viagem: 2\n",
            "digite a velocidade média: 80\n",
            "Velocidade: 80.0\n",
            "Tempo: 2.0\n",
            "Distância: 160.0\n",
            "Litros: 13.333333333333334\n"
          ]
        }
      ]
    }
  ]
}