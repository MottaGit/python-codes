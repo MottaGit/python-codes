{
  "nbformat": 4,
  "nbformat_minor": 0,
  "metadata": {
    "colab": {
      "name": "Exercício Tratamento de erros e exceções.ipynb",
      "provenance": [],
      "authorship_tag": "ABX9TyMTm3jf7T8PbAeRT3dMsS+v",
      "include_colab_link": true
    },
    "kernelspec": {
      "name": "python3",
      "display_name": "Python 3"
    },
    "language_info": {
      "name": "python"
    }
  },
  "cells": [
    {
      "cell_type": "markdown",
      "metadata": {
        "id": "view-in-github",
        "colab_type": "text"
      },
      "source": [
        "<a href=\"https://colab.research.google.com/github/MottaGit/python-codes/blob/main/Exerc%C3%ADcio_Tratamento_de_erros_e_exce%C3%A7%C3%B5es.ipynb\" target=\"_parent\"><img src=\"https://colab.research.google.com/assets/colab-badge.svg\" alt=\"Open In Colab\"/></a>"
      ]
    },
    {
      "cell_type": "markdown",
      "metadata": {
        "id": "C2jgHBj5nX17"
      },
      "source": [
        "# **Tratamento de Erros de Exceções**\n",
        "- NameError: variável não foi definida\n",
        "- TypeError: tipos de dados incompatíveis\n",
        "- RuntimeError: erro de execução\n",
        "- SyntaxError: sintaxe é inválida e não reconhecida pelo interpretador\n",
        "- ZeroDivisionError: divisão por zero\n",
        "- IndexError: indice está fora da coleção (listas, vetores, matrizes)\n",
        "- KeyboardInterrupt: caso o usuário interrompa a execução"
      ]
    },
    {
      "cell_type": "markdown",
      "metadata": {
        "id": "jIXtsPNPq8bs"
      },
      "source": [
        "Crie uma lista vazia e faça a leitura de dois valores do tipo float, colocando cada um dos valores nas primeiras posições da lista (o valor1 ficará na posição 0 da lista e o valor2 ficará na posição 1 da lista). Faça a divisão dos dois valores e trate as seguintes exceções\n",
        "\n",
        "- ValueError: se o usuário digitar um caracter\n",
        "- ZeroDivisionError: se o usuário digitar zero e ocorrer erro na divisão\n",
        "- IndexError: caso a divisão seja feita levando em consideração posições que não existem na lista\n",
        "- KeyboardInterrupt: caso o usuário interrompa a execução\n",
        "\n",
        "Mostra uma mensagem personalizada na ocorrência de cada um desses erros"
      ]
    },
    {
      "cell_type": "code",
      "metadata": {
        "id": "IpdDvGUYnHZ1"
      },
      "source": [
        "lista = []\n",
        "\n",
        "try:\n",
        "  lista.append(float(input('valor 1: ')))\n",
        "  lista.append(float(input('valor 2: ')))\n",
        "  divisao = lista[0]/lista[1]\n",
        "except ValueError:\n",
        "  print('Erro! Valor inválido')\n",
        "except ZeroDivisionError:\n",
        "  print('Erro! Divisão por zero')\n",
        "except IndexError:\n",
        "  print('Erro! Indice invalido')\n",
        "except KeyboardInterrupt:\n",
        "  print('Erro! Usuario interrompeu')\n",
        "else:\n",
        "  print('Resultado = {}'.format(divisao))"
      ],
      "execution_count": null,
      "outputs": []
    }
  ]
}